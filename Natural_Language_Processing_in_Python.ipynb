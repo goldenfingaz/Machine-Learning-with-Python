{
  "nbformat": 4,
  "nbformat_minor": 0,
  "metadata": {
    "kernelspec": {
      "display_name": "Python 3",
      "language": "python",
      "name": "python3"
    },
    "language_info": {
      "codemirror_mode": {
        "name": "ipython",
        "version": 3
      },
      "file_extension": ".py",
      "mimetype": "text/x-python",
      "name": "python",
      "nbconvert_exporter": "python",
      "pygments_lexer": "ipython3",
      "version": "3.7.6"
    },
    "colab": {
      "name": "Natural Language Processing in Python.ipynb",
      "provenance": [],
      "include_colab_link": true
    }
  },
  "cells": [
    {
      "cell_type": "markdown",
      "metadata": {
        "id": "view-in-github",
        "colab_type": "text"
      },
      "source": [
        "<a href=\"https://colab.research.google.com/github/goldenfingaz/Machine_Learning_with_Python/blob/main/Natural_Language_Processing_in_Python.ipynb\" target=\"_parent\"><img src=\"https://colab.research.google.com/assets/colab-badge.svg\" alt=\"Open In Colab\"/></a>"
      ]
    },
    {
      "cell_type": "markdown",
      "metadata": {
        "id": "krxjD8PbEQAE"
      },
      "source": [
        "# Natural Language Processing in Python"
      ]
    },
    {
      "cell_type": "markdown",
      "metadata": {
        "id": "XWXTEOU9EQAL"
      },
      "source": [
        "## 1. Create and open the text file"
      ]
    },
    {
      "cell_type": "code",
      "metadata": {
        "id": "gd2rnGy6EQAM"
      },
      "source": [
        "#create the text file\n",
        "text_file = open(\"/Users/sig/Documents/Programming/natural_language_processing_text.txt\",\"w\")"
      ],
      "execution_count": null,
      "outputs": []
    },
    {
      "cell_type": "code",
      "metadata": {
        "id": "Q_4sn5A5EQAN",
        "outputId": "7eb43674-770a-4cb7-be08-d93492681b43"
      },
      "source": [
        "#type in textfile contents\n",
        "text_file.write(\"Once upon a time there was an old mother pig who had three little pigs and not enough food to feed them. So when they were old enough, she sent them out into the world to seek their fortunes. The first little pig was very lazy. He didn’t want to work at all and he built his house out of straw. The second little pig worked a little bit harder but he was somewhat lazy too and he built his house out of sticks. Then, they sang and danced and played together the rest of the day. The third little pig worked hard all day and built his house with bricks. It was a sturdy house complete with a fine fireplace and chimney. It looked like it could withstand the strongest winds.\")"
      ],
      "execution_count": null,
      "outputs": [
        {
          "output_type": "execute_result",
          "data": {
            "text/plain": [
              "673"
            ]
          },
          "metadata": {
            "tags": []
          },
          "execution_count": 2
        }
      ]
    },
    {
      "cell_type": "code",
      "metadata": {
        "id": "FSLkdbmkEQAO"
      },
      "source": [
        "#open text file\n",
        "text_file = open(\"/Users/sig/Documents/Programming/natural_language_processing_text.txt\")"
      ],
      "execution_count": null,
      "outputs": []
    },
    {
      "cell_type": "code",
      "metadata": {
        "id": "jMHuSjxeEQAP"
      },
      "source": [
        "#read text file\n",
        "text = text_file.read()"
      ],
      "execution_count": null,
      "outputs": []
    },
    {
      "cell_type": "code",
      "metadata": {
        "id": "NdNw2vamEQAP",
        "outputId": "722edbb8-e528-45f1-979f-5ad21daac73b"
      },
      "source": [
        "#print object type of textfile\n",
        "print(type(text))\n",
        "print(\"\\n\")\n",
        "\n",
        "#print contents of text file\n",
        "print(text)\n",
        "print(\"\\n\")\n",
        "\n",
        "#print length of text file\n",
        "print(len(text))"
      ],
      "execution_count": null,
      "outputs": [
        {
          "output_type": "stream",
          "text": [
            "<class 'str'>\n",
            "\n",
            "\n",
            "Once upon a time there was an old mother pig who had three little pigs and not enough food to feed them. So when they were old enough, she sent them out into the world to seek their fortunes. The first little pig was very lazy. He didn’t want to work at all and he built his house out of straw. The second little pig worked a little bit harder but he was somewhat lazy too and he built his house out of sticks. Then, they sang and danced and played together the rest of the day. The third little pig worked hard all day and built his house with bricks. It was a sturdy house complete with a fine fireplace and chimney. It looked like it could withstand the strongest winds.\n",
            "\n",
            "\n",
            "673\n"
          ],
          "name": "stdout"
        }
      ]
    },
    {
      "cell_type": "markdown",
      "metadata": {
        "id": "kGipxKleEQAQ"
      },
      "source": [
        "## 2. Import required libraries"
      ]
    },
    {
      "cell_type": "code",
      "metadata": {
        "id": "G_tMxwVAEQAQ",
        "outputId": "580805aa-f325-4dc5-8b96-dd53cca0f2dc"
      },
      "source": [
        "#import required libraries\n",
        "import nltk\n",
        "from nltk import sent_tokenize\n",
        "from nltk import word_tokenize\n",
        "nltk.download('punkt')"
      ],
      "execution_count": null,
      "outputs": [
        {
          "output_type": "stream",
          "text": [
            "[nltk_data] Downloading package punkt to /Users/sig/nltk_data...\n",
            "[nltk_data]   Package punkt is already up-to-date!\n"
          ],
          "name": "stderr"
        },
        {
          "output_type": "execute_result",
          "data": {
            "text/plain": [
              "True"
            ]
          },
          "metadata": {
            "tags": []
          },
          "execution_count": 6
        }
      ]
    },
    {
      "cell_type": "markdown",
      "metadata": {
        "id": "vnB8bq8XEQAQ"
      },
      "source": [
        "## 3. Tokenize text by sentences"
      ]
    },
    {
      "cell_type": "code",
      "metadata": {
        "id": "G7y45wOKEQAQ",
        "outputId": "79551cc5-27e3-4e23-eaa0-df7dd83beef0"
      },
      "source": [
        "#tokenize the text by sentences\n",
        "sentences = sent_tokenize(text)\n",
        "\n",
        "#check the number of sentences\n",
        "print(f\"The total number of sentences is {len(sentences)}\")\n",
        "print(\"\\n\")\n",
        "#print the sentences\n",
        "print(sentences)"
      ],
      "execution_count": null,
      "outputs": [
        {
          "output_type": "stream",
          "text": [
            "The total number of sentences is 9\n",
            "\n",
            "\n",
            "['Once upon a time there was an old mother pig who had three little pigs and not enough food to feed them.', 'So when they were old enough, she sent them out into the world to seek their fortunes.', 'The first little pig was very lazy.', 'He didn’t want to work at all and he built his house out of straw.', 'The second little pig worked a little bit harder but he was somewhat lazy too and he built his house out of sticks.', 'Then, they sang and danced and played together the rest of the day.', 'The third little pig worked hard all day and built his house with bricks.', 'It was a sturdy house complete with a fine fireplace and chimney.', 'It looked like it could withstand the strongest winds.']\n"
          ],
          "name": "stdout"
        }
      ]
    },
    {
      "cell_type": "markdown",
      "metadata": {
        "id": "unYiM0i_EQAR"
      },
      "source": [
        "## 4. Tokenize text by words"
      ]
    },
    {
      "cell_type": "code",
      "metadata": {
        "id": "yjQM4G7yEQAR",
        "outputId": "1c22a5e3-0fe5-4c7a-9506-13fd71eefcc0"
      },
      "source": [
        "#tokenize text by words\n",
        "words = word_tokenize(text)\n",
        "\n",
        "#check the number of words\n",
        "print(f\"The total number of words in the text is {len(words)}\")\n",
        "print(\"\\n\")\n",
        "print(words)"
      ],
      "execution_count": null,
      "outputs": [
        {
          "output_type": "stream",
          "text": [
            "The total number of words in the text is 145\n",
            "\n",
            "\n",
            "['Once', 'upon', 'a', 'time', 'there', 'was', 'an', 'old', 'mother', 'pig', 'who', 'had', 'three', 'little', 'pigs', 'and', 'not', 'enough', 'food', 'to', 'feed', 'them', '.', 'So', 'when', 'they', 'were', 'old', 'enough', ',', 'she', 'sent', 'them', 'out', 'into', 'the', 'world', 'to', 'seek', 'their', 'fortunes', '.', 'The', 'first', 'little', 'pig', 'was', 'very', 'lazy', '.', 'He', 'didn', '’', 't', 'want', 'to', 'work', 'at', 'all', 'and', 'he', 'built', 'his', 'house', 'out', 'of', 'straw', '.', 'The', 'second', 'little', 'pig', 'worked', 'a', 'little', 'bit', 'harder', 'but', 'he', 'was', 'somewhat', 'lazy', 'too', 'and', 'he', 'built', 'his', 'house', 'out', 'of', 'sticks', '.', 'Then', ',', 'they', 'sang', 'and', 'danced', 'and', 'played', 'together', 'the', 'rest', 'of', 'the', 'day', '.', 'The', 'third', 'little', 'pig', 'worked', 'hard', 'all', 'day', 'and', 'built', 'his', 'house', 'with', 'bricks', '.', 'It', 'was', 'a', 'sturdy', 'house', 'complete', 'with', 'a', 'fine', 'fireplace', 'and', 'chimney', '.', 'It', 'looked', 'like', 'it', 'could', 'withstand', 'the', 'strongest', 'winds', '.']\n"
          ],
          "name": "stdout"
        }
      ]
    },
    {
      "cell_type": "markdown",
      "metadata": {
        "id": "k4JdDL9nEQAS"
      },
      "source": [
        "## 5. Find the frequency distribution"
      ]
    },
    {
      "cell_type": "code",
      "metadata": {
        "id": "eWi8kdehEQAS",
        "outputId": "45248a73-676e-4cae-fbad-5e03577dc4e3"
      },
      "source": [
        "#import the required library\n",
        "from nltk.probability import FreqDist\n",
        "\n",
        "#find the frequency\n",
        "fdist = FreqDist(words)\n",
        "\n",
        "#print the 10 most common words\n",
        "fdist.most_common(10)"
      ],
      "execution_count": null,
      "outputs": [
        {
          "output_type": "execute_result",
          "data": {
            "text/plain": [
              "[('.', 9),\n",
              " ('and', 7),\n",
              " ('little', 5),\n",
              " ('a', 4),\n",
              " ('was', 4),\n",
              " ('pig', 4),\n",
              " ('the', 4),\n",
              " ('house', 4),\n",
              " ('to', 3),\n",
              " ('out', 3)]"
            ]
          },
          "metadata": {
            "tags": []
          },
          "execution_count": 9
        }
      ]
    },
    {
      "cell_type": "markdown",
      "metadata": {
        "id": "LoUldheyEQAS"
      },
      "source": [
        "## 6. Plot the frequency graph"
      ]
    },
    {
      "cell_type": "code",
      "metadata": {
        "id": "FK_xkzVqEQAS",
        "outputId": "244ebbba-05d9-4a5b-c93b-69cf181962cd"
      },
      "source": [
        "#import matplotlib\n",
        "from matplotlib import pyplot as plt\n",
        "fdist.plot(10)\n",
        "plt.show()"
      ],
      "execution_count": null,
      "outputs": [
        {
          "output_type": "display_data",
          "data": {
            "image/png": "[encoded data removed]",
            "text/plain": [
              "<Figure size 432x288 with 1 Axes>"
            ]
          },
          "metadata": {
            "tags": [],
            "needs_background": "light"
          }
        }
      ]
    },
    {
      "cell_type": "markdown",
      "metadata": {
        "id": "sJja95M3EQAT"
      },
      "source": [
        "## 7. Remove punctuation marks"
      ]
    },
    {
      "cell_type": "code",
      "metadata": {
        "id": "gns550YmEQAT",
        "outputId": "471c4d0f-7368-457b-e605-51663d68262a"
      },
      "source": [
        "#create an empty list to store words\n",
        "words_no_punc = []\n",
        "\n",
        "#iterate through the words list to remove punctuations\n",
        "for word in words:\n",
        "    if word.isalpha():\n",
        "        words_no_punc.append(word.lower())\n",
        "\n",
        "print(words_no_punc)\n",
        "print(\"\\n\")\n",
        "#print number of words without punctuation\n",
        "print(f\"The total number of words without punctuation is {len(words_no_punc)}\")"
      ],
      "execution_count": null,
      "outputs": [
        {
          "output_type": "stream",
          "text": [
            "['once', 'upon', 'a', 'time', 'there', 'was', 'an', 'old', 'mother', 'pig', 'who', 'had', 'three', 'little', 'pigs', 'and', 'not', 'enough', 'food', 'to', 'feed', 'them', 'so', 'when', 'they', 'were', 'old', 'enough', 'she', 'sent', 'them', 'out', 'into', 'the', 'world', 'to', 'seek', 'their', 'fortunes', 'the', 'first', 'little', 'pig', 'was', 'very', 'lazy', 'he', 'didn', 't', 'want', 'to', 'work', 'at', 'all', 'and', 'he', 'built', 'his', 'house', 'out', 'of', 'straw', 'the', 'second', 'little', 'pig', 'worked', 'a', 'little', 'bit', 'harder', 'but', 'he', 'was', 'somewhat', 'lazy', 'too', 'and', 'he', 'built', 'his', 'house', 'out', 'of', 'sticks', 'then', 'they', 'sang', 'and', 'danced', 'and', 'played', 'together', 'the', 'rest', 'of', 'the', 'day', 'the', 'third', 'little', 'pig', 'worked', 'hard', 'all', 'day', 'and', 'built', 'his', 'house', 'with', 'bricks', 'it', 'was', 'a', 'sturdy', 'house', 'complete', 'with', 'a', 'fine', 'fireplace', 'and', 'chimney', 'it', 'looked', 'like', 'it', 'could', 'withstand', 'the', 'strongest', 'winds']\n",
            "\n",
            "\n",
            "The total number of words without punctuation is 133\n"
          ],
          "name": "stdout"
        }
      ]
    },
    {
      "cell_type": "markdown",
      "metadata": {
        "id": "b7ggbmyZEQAT"
      },
      "source": [
        "## 8. Plot graph of words without punctuation marks"
      ]
    },
    {
      "cell_type": "code",
      "metadata": {
        "id": "xNOBiYLOEQAT",
        "outputId": "a68f69cf-7267-467d-bf44-2d574a601baa"
      },
      "source": [
        "fdist = FreqDist(words_no_punc)\n",
        "\n",
        "fdist.most_common(10)"
      ],
      "execution_count": null,
      "outputs": [
        {
          "output_type": "execute_result",
          "data": {
            "text/plain": [
              "[('and', 7),\n",
              " ('the', 7),\n",
              " ('little', 5),\n",
              " ('a', 4),\n",
              " ('was', 4),\n",
              " ('pig', 4),\n",
              " ('he', 4),\n",
              " ('house', 4),\n",
              " ('to', 3),\n",
              " ('out', 3)]"
            ]
          },
          "metadata": {
            "tags": []
          },
          "execution_count": 12
        }
      ]
    },
    {
      "cell_type": "markdown",
      "metadata": {
        "id": "Kjrn0dUfEQAU"
      },
      "source": [
        "## 9. List of stopwords"
      ]
    },
    {
      "cell_type": "code",
      "metadata": {
        "id": "KhcD75-7EQAU",
        "outputId": "2cb455ba-e55d-4565-9414-3d7e0e2c9bb3"
      },
      "source": [
        "#import list of stopwords\n",
        "from nltk.corpus import stopwords\n",
        "\n",
        "#list of stopwords\n",
        "stopwords = stopwords.words(\"english\")\n",
        "print(stopwords)"
      ],
      "execution_count": null,
      "outputs": [
        {
          "output_type": "stream",
          "text": [
            "['i', 'me', 'my', 'myself', 'we', 'our', 'ours', 'ourselves', 'you', \"you're\", \"you've\", \"you'll\", \"you'd\", 'your', 'yours', 'yourself', 'yourselves', 'he', 'him', 'his', 'himself', 'she', \"she's\", 'her', 'hers', 'herself', 'it', \"it's\", 'its', 'itself', 'they', 'them', 'their', 'theirs', 'themselves', 'what', 'which', 'who', 'whom', 'this', 'that', \"that'll\", 'these', 'those', 'am', 'is', 'are', 'was', 'were', 'be', 'been', 'being', 'have', 'has', 'had', 'having', 'do', 'does', 'did', 'doing', 'a', 'an', 'the', 'and', 'but', 'if', 'or', 'because', 'as', 'until', 'while', 'of', 'at', 'by', 'for', 'with', 'about', 'against', 'between', 'into', 'through', 'during', 'before', 'after', 'above', 'below', 'to', 'from', 'up', 'down', 'in', 'out', 'on', 'off', 'over', 'under', 'again', 'further', 'then', 'once', 'here', 'there', 'when', 'where', 'why', 'how', 'all', 'any', 'both', 'each', 'few', 'more', 'most', 'other', 'some', 'such', 'no', 'nor', 'not', 'only', 'own', 'same', 'so', 'than', 'too', 'very', 's', 't', 'can', 'will', 'just', 'don', \"don't\", 'should', \"should've\", 'now', 'd', 'll', 'm', 'o', 're', 've', 'y', 'ain', 'aren', \"aren't\", 'couldn', \"couldn't\", 'didn', \"didn't\", 'doesn', \"doesn't\", 'hadn', \"hadn't\", 'hasn', \"hasn't\", 'haven', \"haven't\", 'isn', \"isn't\", 'ma', 'mightn', \"mightn't\", 'mustn', \"mustn't\", 'needn', \"needn't\", 'shan', \"shan't\", 'shouldn', \"shouldn't\", 'wasn', \"wasn't\", 'weren', \"weren't\", 'won', \"won't\", 'wouldn', \"wouldn't\"]\n"
          ],
          "name": "stdout"
        }
      ]
    },
    {
      "cell_type": "markdown",
      "metadata": {
        "id": "9GBzN3RSEQAU"
      },
      "source": [
        "## 10. Removing stopwords"
      ]
    },
    {
      "cell_type": "code",
      "metadata": {
        "id": "9MEi9fUREQAU",
        "outputId": "948348a6-17e0-416c-ed5c-8c945fa65791"
      },
      "source": [
        "#create an empty list to store clean words\n",
        "clean_words = []\n",
        "\n",
        "for word in words_no_punc:\n",
        "    if word not in stopwords:\n",
        "        clean_words.append(word)\n",
        "\n",
        "print(clean_words)\n",
        "print(\"\\n\")\n",
        "print(len(clean_words))"
      ],
      "execution_count": null,
      "outputs": [
        {
          "output_type": "stream",
          "text": [
            "['upon', 'time', 'old', 'mother', 'pig', 'three', 'little', 'pigs', 'enough', 'food', 'feed', 'old', 'enough', 'sent', 'world', 'seek', 'fortunes', 'first', 'little', 'pig', 'lazy', 'want', 'work', 'built', 'house', 'straw', 'second', 'little', 'pig', 'worked', 'little', 'bit', 'harder', 'somewhat', 'lazy', 'built', 'house', 'sticks', 'sang', 'danced', 'played', 'together', 'rest', 'day', 'third', 'little', 'pig', 'worked', 'hard', 'day', 'built', 'house', 'bricks', 'sturdy', 'house', 'complete', 'fine', 'fireplace', 'chimney', 'looked', 'like', 'could', 'withstand', 'strongest', 'winds']\n",
            "\n",
            "\n",
            "65\n"
          ],
          "name": "stdout"
        }
      ]
    },
    {
      "cell_type": "markdown",
      "metadata": {
        "id": "RSGxJIRfEQAV"
      },
      "source": [
        "## 11. Final frequency distribution"
      ]
    },
    {
      "cell_type": "code",
      "metadata": {
        "id": "4zKu_3gQEQAV",
        "outputId": "c361bf63-9d5a-41c4-b449-76dea3b5cdd6"
      },
      "source": [
        "fdist = FreqDist(clean_words)\n",
        "\n",
        "fdist.most_common(10)"
      ],
      "execution_count": null,
      "outputs": [
        {
          "output_type": "execute_result",
          "data": {
            "text/plain": [
              "[('little', 5),\n",
              " ('pig', 4),\n",
              " ('house', 4),\n",
              " ('built', 3),\n",
              " ('old', 2),\n",
              " ('enough', 2),\n",
              " ('lazy', 2),\n",
              " ('worked', 2),\n",
              " ('day', 2),\n",
              " ('upon', 1)]"
            ]
          },
          "metadata": {
            "tags": []
          },
          "execution_count": 15
        }
      ]
    },
    {
      "cell_type": "code",
      "metadata": {
        "id": "6cWoz3PEEQAV",
        "outputId": "c9f2be3b-dd4c-4e32-ab72-89f789b08683"
      },
      "source": [
        "fdist.plot(10)\n",
        "plt.show()"
      ],
      "execution_count": null,
      "outputs": [
        {
          "output_type": "display_data",
          "data": {
            "image/png": "[encoded data removed]",
            "text/plain": [
              "<Figure size 432x288 with 1 Axes>"
            ]
          },
          "metadata": {
            "tags": [],
            "needs_background": "light"
          }
        }
      ]
    },
    {
      "cell_type": "markdown",
      "metadata": {
        "id": "cx-dAhEWEQAW"
      },
      "source": [
        "## 11. Word Cloud"
      ]
    },
    {
      "cell_type": "code",
      "metadata": {
        "id": "gQUlscr9EQAW",
        "outputId": "09caf08e-f079-40d2-b913-4a6aaa815040"
      },
      "source": [
        "#install the wordcloud library if you don't have it\n",
        "!pip install wordcloud"
      ],
      "execution_count": null,
      "outputs": [
        {
          "output_type": "stream",
          "text": [
            "Requirement already satisfied: wordcloud in /opt/anaconda3/lib/python3.7/site-packages (1.8.0)\r\n",
            "Requirement already satisfied: pillow in /opt/anaconda3/lib/python3.7/site-packages (from wordcloud) (7.0.0)\r\n",
            "Requirement already satisfied: numpy>=1.6.1 in /opt/anaconda3/lib/python3.7/site-packages (from wordcloud) (1.18.1)\r\n",
            "Requirement already satisfied: matplotlib in /opt/anaconda3/lib/python3.7/site-packages (from wordcloud) (3.1.3)\r\n",
            "Requirement already satisfied: kiwisolver>=1.0.1 in /opt/anaconda3/lib/python3.7/site-packages (from matplotlib->wordcloud) (1.1.0)\r\n",
            "Requirement already satisfied: python-dateutil>=2.1 in /opt/anaconda3/lib/python3.7/site-packages (from matplotlib->wordcloud) (2.8.1)\r\n",
            "Requirement already satisfied: cycler>=0.10 in /opt/anaconda3/lib/python3.7/site-packages (from matplotlib->wordcloud) (0.10.0)\r\n",
            "Requirement already satisfied: pyparsing!=2.0.4,!=2.1.2,!=2.1.6,>=2.0.1 in /opt/anaconda3/lib/python3.7/site-packages (from matplotlib->wordcloud) (2.4.6)\r\n",
            "Requirement already satisfied: setuptools in /opt/anaconda3/lib/python3.7/site-packages (from kiwisolver>=1.0.1->matplotlib->wordcloud) (46.0.0.post20200309)\r\n",
            "Requirement already satisfied: six>=1.5 in /opt/anaconda3/lib/python3.7/site-packages (from python-dateutil>=2.1->matplotlib->wordcloud) (1.14.0)\r\n"
          ],
          "name": "stdout"
        }
      ]
    },
    {
      "cell_type": "code",
      "metadata": {
        "id": "7OuBL7HjEQAW",
        "outputId": "feef867e-3a15-4cf9-960a-bc864ca87b91"
      },
      "source": [
        "#import the relevant library\n",
        "from wordcloud import WordCloud\n",
        "\n",
        "#library to import the wordcloud\n",
        "import matplotlib.pyplot as plt\n",
        "\n",
        "#generating the wordcloud\n",
        "wordcloud = WordCloud().generate(text)\n",
        "\n",
        "#plot the wordcloud\n",
        "plt.figure(figsize = (12, 12))\n",
        "plt.imshow(wordcloud)\n",
        "\n",
        "#to remove the axis value\n",
        "plt.axis(\"off\")\n",
        "plt.show()"
      ],
      "execution_count": null,
      "outputs": [
        {
          "output_type": "display_data",
          "data": {
            "image/png": "[encoded data removed]",
            "text/plain": [
              "<Figure size 864x864 with 1 Axes>"
            ]
          },
          "metadata": {
            "tags": [],
            "needs_background": "light"
          }
        }
      ]
    },
    {
      "cell_type": "markdown",
      "metadata": {
        "id": "-HK1YpwaEQAX"
      },
      "source": [
        "## 12. Stemming"
      ]
    },
    {
      "cell_type": "code",
      "metadata": {
        "id": "8tE3XGsxEQAX"
      },
      "source": [
        "from nltk.stem import SnowballStemmer\n",
        "\n",
        "snowball = SnowballStemmer(\"english\")\n",
        "\n",
        "#word list to be stemmed\n",
        "\n",
        "stemmed_words = []\n",
        "\n",
        "for w in clean_words:\n",
        "    stemmed_words.append(snowball.stem(w))"
      ],
      "execution_count": null,
      "outputs": []
    },
    {
      "cell_type": "code",
      "metadata": {
        "id": "d9V98yogEQAY",
        "outputId": "c895bb83-ec4f-4433-c411-3137b99cebf8"
      },
      "source": [
        "print(stemmed_words[:50])"
      ],
      "execution_count": null,
      "outputs": [
        {
          "output_type": "stream",
          "text": [
            "['upon', 'time', 'old', 'mother', 'pig', 'three', 'littl', 'pig', 'enough', 'food', 'feed', 'old', 'enough', 'sent', 'world', 'seek', 'fortun', 'first', 'littl', 'pig', 'lazi', 'want', 'work', 'built', 'hous', 'straw', 'second', 'littl', 'pig', 'work', 'littl', 'bit', 'harder', 'somewhat', 'lazi', 'built', 'hous', 'stick', 'sang', 'danc', 'play', 'togeth', 'rest', 'day', 'third', 'littl', 'pig', 'work', 'hard', 'day']\n"
          ],
          "name": "stdout"
        }
      ]
    },
    {
      "cell_type": "markdown",
      "metadata": {
        "id": "AQOSV1kHEQAY"
      },
      "source": [
        "## 13. Lemmatization"
      ]
    },
    {
      "cell_type": "code",
      "metadata": {
        "id": "d6cbIlc-EQAZ",
        "outputId": "64cd3553-9a74-48a5-ba1f-df2070ec994d"
      },
      "source": [
        "nltk.download(\"wordnet\")\n",
        "from nltk import WordNetLemmatizer\n",
        "\n",
        "lemma = WordNetLemmatizer()\n",
        "\n",
        "lemmatized_words = []\n",
        "\n",
        "for w in clean_words:\n",
        "    lemmatized_words.append(lemma.lemmatize(w))\n"
      ],
      "execution_count": null,
      "outputs": [
        {
          "output_type": "stream",
          "text": [
            "[nltk_data] Downloading package wordnet to /Users/sig/nltk_data...\n",
            "[nltk_data]   Unzipping corpora/wordnet.zip.\n"
          ],
          "name": "stderr"
        }
      ]
    },
    {
      "cell_type": "code",
      "metadata": {
        "id": "L1sC4uV2EQAZ",
        "outputId": "24505dad-021d-4f2c-bf21-16e1fd48a847"
      },
      "source": [
        "print(lemmatized_words[:50])"
      ],
      "execution_count": null,
      "outputs": [
        {
          "output_type": "stream",
          "text": [
            "['upon', 'time', 'old', 'mother', 'pig', 'three', 'little', 'pig', 'enough', 'food', 'feed', 'old', 'enough', 'sent', 'world', 'seek', 'fortune', 'first', 'little', 'pig', 'lazy', 'want', 'work', 'built', 'house', 'straw', 'second', 'little', 'pig', 'worked', 'little', 'bit', 'harder', 'somewhat', 'lazy', 'built', 'house', 'stick', 'sang', 'danced', 'played', 'together', 'rest', 'day', 'third', 'little', 'pig', 'worked', 'hard', 'day']\n"
          ],
          "name": "stdout"
        }
      ]
    },
    {
      "cell_type": "markdown",
      "metadata": {
        "id": "rslnHen1EQAZ"
      },
      "source": [
        "## 14. PoS Tagging"
      ]
    },
    {
      "cell_type": "code",
      "metadata": {
        "id": "Ps9hfcdGEQAZ",
        "outputId": "2357048b-6d8c-4c98-87ae-247b6c911fcc"
      },
      "source": [
        "nltk.download('averaged_perceptron_tagger')\n",
        "for words in clean_words:\n",
        "    tagged_words = nltk.pos_tag(clean_words)"
      ],
      "execution_count": null,
      "outputs": [
        {
          "output_type": "stream",
          "text": [
            "[nltk_data] Downloading package averaged_perceptron_tagger to\n",
            "[nltk_data]     /Users/sig/nltk_data...\n",
            "[nltk_data]   Unzipping taggers/averaged_perceptron_tagger.zip.\n"
          ],
          "name": "stderr"
        }
      ]
    },
    {
      "cell_type": "code",
      "metadata": {
        "id": "dJopGZEaEQAa",
        "outputId": "1426e9ef-df75-4915-9fd6-4cde896d2011"
      },
      "source": [
        "print(tagged_words)"
      ],
      "execution_count": null,
      "outputs": [
        {
          "output_type": "stream",
          "text": [
            "[('upon', 'IN'), ('time', 'NN'), ('old', 'JJ'), ('mother', 'NN'), ('pig', 'NN'), ('three', 'CD'), ('little', 'JJ'), ('pigs', 'NNS'), ('enough', 'RB'), ('food', 'NN'), ('feed', 'NN'), ('old', 'JJ'), ('enough', 'RB'), ('sent', 'VBD'), ('world', 'NN'), ('seek', 'NN'), ('fortunes', 'NNS'), ('first', 'RB'), ('little', 'JJ'), ('pig', 'JJ'), ('lazy', 'NN'), ('want', 'VBP'), ('work', 'NN'), ('built', 'VBN'), ('house', 'NN'), ('straw', 'JJ'), ('second', 'JJ'), ('little', 'JJ'), ('pig', 'NN'), ('worked', 'VBD'), ('little', 'JJ'), ('bit', 'NN'), ('harder', 'RBR'), ('somewhat', 'RB'), ('lazy', 'JJ'), ('built', 'VBN'), ('house', 'NN'), ('sticks', 'NNS'), ('sang', 'VBD'), ('danced', 'JJ'), ('played', 'VBN'), ('together', 'RB'), ('rest', 'JJ'), ('day', 'NN'), ('third', 'JJ'), ('little', 'JJ'), ('pig', 'NN'), ('worked', 'VBD'), ('hard', 'JJ'), ('day', 'NN'), ('built', 'VBN'), ('house', 'NN'), ('bricks', 'NNS'), ('sturdy', 'VBP'), ('house', 'NN'), ('complete', 'JJ'), ('fine', 'JJ'), ('fireplace', 'NN'), ('chimney', 'NN'), ('looked', 'VBD'), ('like', 'IN'), ('could', 'MD'), ('withstand', 'VB'), ('strongest', 'JJS'), ('winds', 'NNS')]\n"
          ],
          "name": "stdout"
        }
      ]
    },
    {
      "cell_type": "markdown",
      "metadata": {
        "id": "E9MymsPtEQAa"
      },
      "source": [
        "## 15. Chunking"
      ]
    },
    {
      "cell_type": "code",
      "metadata": {
        "id": "k-WnIyBoEQAa"
      },
      "source": [
        ""
      ],
      "execution_count": null,
      "outputs": []
    }
  ]
}